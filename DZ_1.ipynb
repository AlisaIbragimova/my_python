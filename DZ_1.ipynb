{
 "cells": [
  {
   "cell_type": "code",
   "execution_count": 44,
   "metadata": {},
   "outputs": [
    {
     "name": "stdin",
     "output_type": "stream",
     "text": [
      "Введите номер элемента:  3\n"
     ]
    },
    {
     "name": "stdout",
     "output_type": "stream",
     "text": [
      "Li\n"
     ]
    }
   ],
   "source": [
    "table_function = input(\"Введите номер элемента: \")\n",
    "if int(table_function) == 3:\n",
    "    print(\"Li\")\n",
    "elif int(table_function) == 25:\n",
    "    print(\"Mn\")\n",
    "elif int(table_function) == 80:\n",
    "    print(\"Hg\")\n",
    "elif int(table_function) == 17:\n",
    "    print(\"Cl\")\n",
    "else:\n",
    "    print(\"Не могу определить элемент. Посмотрите в таблице сами!\")"
   ]
  },
  {
   "cell_type": "code",
   "execution_count": 9,
   "metadata": {},
   "outputs": [],
   "source": [
    "def my_max(x, y):\n",
    "    if x < y:\n",
    "        print(y)\n",
    "    elif y < x:\n",
    "        print(x)\n",
    "    else:\n",
    "        print(\"Числа равны!\")"
   ]
  },
  {
   "cell_type": "code",
   "execution_count": 14,
   "metadata": {},
   "outputs": [
    {
     "name": "stdout",
     "output_type": "stream",
     "text": [
      "Числа равны!\n"
     ]
    }
   ],
   "source": [
    "my_max(34, 34)"
   ]
  },
  {
   "cell_type": "code",
   "execution_count": 6,
   "metadata": {},
   "outputs": [],
   "source": [
    "def get_parity(x):\n",
    "    if x % 2 == 0:\n",
    "        print('Четное')\n",
    "    else:\n",
    "        print('Нечетное')"
   ]
  },
  {
   "cell_type": "code",
   "execution_count": 7,
   "metadata": {},
   "outputs": [
    {
     "name": "stdout",
     "output_type": "stream",
     "text": [
      "Четное\n"
     ]
    }
   ],
   "source": [
    "get_parity(8)"
   ]
  },
  {
   "cell_type": "code",
   "execution_count": 43,
   "metadata": {},
   "outputs": [
    {
     "name": "stdin",
     "output_type": "stream",
     "text": [
      "Введите ввещественное число:  3.7777\n"
     ]
    },
    {
     "name": "stdout",
     "output_type": "stream",
     "text": [
      "14.27101729\n"
     ]
    }
   ],
   "source": [
    "fun1 = input(\"Введите ввещественное число: \")\n",
    "if -2.4 <= float(fun1) <= 5.7:\n",
    "    print(float(fun1)*float(fun1))\n",
    "else:\n",
    "    print(4)"
   ]
  },
  {
   "cell_type": "code",
   "execution_count": 58,
   "metadata": {},
   "outputs": [
    {
     "name": "stdin",
     "output_type": "stream",
     "text": [
      "Введите код Вашего города:  567\n",
      "Укажите длительность разговора:  10\n"
     ]
    },
    {
     "name": "stdout",
     "output_type": "stream",
     "text": [
      "Не могу определить стоимость звонка. Обратитесь в другой сервис!\n"
     ]
    }
   ],
   "source": [
    "code = input(\"Введите код Вашего города: \")\n",
    "call_dur = input(\"Укажите длительность разговора: \")\n",
    "if int(code) == 343:\n",
    "    print (15*int(call_dur))\n",
    "elif int(code) == 381:\n",
    "    print (18*int(call_dur))\n",
    "elif int(code) == 473:\n",
    "    print (13*int(call_dur))\n",
    "elif int(code) == 485:\n",
    "    print (11*int(call_dur))\n",
    "else:\n",
    "    print(\"Не могу определить стоимость звонка. Обратитесь в другой сервис!\")"
   ]
  },
  {
   "cell_type": "code",
   "execution_count": 7,
   "metadata": {},
   "outputs": [
    {
     "name": "stdin",
     "output_type": "stream",
     "text": [
      "Введите название фильма (Паразиты, 1917 или Соник в кино):  Паразиты\n",
      "Выберите дату сеанса (сегодня, завтра)):  завтра\n",
      "Выберите время сеанса (12, 16, 20 часов)):  20\n",
      "Укажите количество билетов:  20\n"
     ]
    },
    {
     "name": "stdout",
     "output_type": "stream",
     "text": [
      "Общая стоимость покупки:  6750.0\n"
     ]
    }
   ],
   "source": [
    "movie = input(\"Введите название фильма (Паразиты, 1917 или Соник в кино): \")\n",
    "date = input(\"Выберите дату сеанса (сегодня, завтра)): \")\n",
    "price = 0\n",
    "if movie == str(\"Паразиты\"):\n",
    "    time = input(\"Выберите время сеанса (12, 16, 20 часов)): \")\n",
    "elif movie == str(\"1917\"):\n",
    "    time = input(\"Выберите время сеанса (10, 13, 16 часов)): \")\n",
    "elif movie == str(\"Соник в кино\"):\n",
    "    time = input(\"Выберите время сеанса (10, 14, 18 часов)): \")\n",
    "tickets = input(\"Укажите количество билетов: \")\n",
    "if movie == str(\"Паразиты\") and int(time) == 12 or movie == str(\"1917\") and int(time) == 10:\n",
    "    price += 250*int(tickets)\n",
    "elif movie == str(\"Паразиты\") and int(time) == 16 or movie == str(\"1917\") and int(time) == 13 or movie == str(\"1917\") and int(time) == 16 or movie == str(\"Соник в кино\") and int(time) == 10:\n",
    "    price += 350*int(tickets)\n",
    "elif movie == str(\"Паразиты\") and int(time) == 20 or movie == str(\"Соник в кино\") and int(time) == 14 or movie == str(\"Соник в кино\") and int(time) == 18:\n",
    "    price += 450*int(tickets)\n",
    "if date == str(\"завтра\") and int(tickets) > 20:\n",
    "    price *= 0.75\n",
    "if date == str(\"завтра\") and int(tickets) == 20:\n",
    "    price *= 0.75\n",
    "elif date == str(\"завтра\") and int(tickets) < 20: \n",
    "    price *= 0.95\n",
    "elif date == str(\"сегодня\") and int(tickets) > 20: \n",
    "    price *= 0.8\n",
    "elif date == str(\"сегодня\") and int(tickets) == 20: \n",
    "    price *= 0.8\n",
    "print(\"Общая стоимость покупки: \", float(price))"
   ]
  }
 ],
 "metadata": {
  "kernelspec": {
   "display_name": "Python 3",
   "language": "python",
   "name": "python3"
  },
  "language_info": {
   "codemirror_mode": {
    "name": "ipython",
    "version": 3
   },
   "file_extension": ".py",
   "mimetype": "text/x-python",
   "name": "python",
   "nbconvert_exporter": "python",
   "pygments_lexer": "ipython3",
   "version": "3.7.4"
  }
 },
 "nbformat": 4,
 "nbformat_minor": 4
}
