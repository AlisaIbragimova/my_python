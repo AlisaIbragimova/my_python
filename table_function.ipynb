{
 "cells": [
  {
   "cell_type": "code",
   "execution_count": 1,
   "metadata": {},
   "outputs": [
    {
     "name": "stdin",
     "output_type": "stream",
     "text": [
      "Введите номер элемента:  3\n"
     ]
    },
    {
     "name": "stdout",
     "output_type": "stream",
     "text": [
      "Li\n"
     ]
    }
   ],
   "source": [
    "table_function = input(\"Введите номер элемента: \")\n",
    "if int(table_function) == 3:\n",
    "    print(\"Li\")\n",
    "elif int(table_function) == 25:\n",
    "    print(\"Mn\")\n",
    "elif int(table_function) == 80:\n",
    "    print(\"Hg\")\n",
    "elif int(table_function) == 17:\n",
    "    print(\"Cl\")\n",
    "else:\n",
    "    print(\"Не могу определить элемент. Посмотрите в таблице сами!\")"
   ]
  }
 ],
 "metadata": {
  "kernelspec": {
   "display_name": "Python 3",
   "language": "python",
   "name": "python3"
  },
  "language_info": {
   "codemirror_mode": {
    "name": "ipython",
    "version": 3
   },
   "file_extension": ".py",
   "mimetype": "text/x-python",
   "name": "python",
   "nbconvert_exporter": "python",
   "pygments_lexer": "ipython3",
   "version": "3.7.4"
  }
 },
 "nbformat": 4,
 "nbformat_minor": 4
}
