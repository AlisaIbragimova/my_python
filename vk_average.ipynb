{
 "cells": [
  {
   "cell_type": "code",
   "execution_count": 2,
   "metadata": {},
   "outputs": [
    {
     "data": {
      "text/plain": [
       "{'Вопрос возник в связи с началом нов...': 228,\n",
       " 'До встречи в новом году! &#1280...': 734,\n",
       " 'Зачем экономисту Python? &#129300;О...': 778,\n",
       " 'Python will conquer the world&#1281...': 280,\n",
       " 'Отзыв &#129392;': 270,\n",
       " 'Полный курс \"Python: основы пр...': 686,\n",
       " 'Заключительные уроки по основам язы...': 311,\n",
       " '- Не знаешь, чем заняться в пятницу...': 301,\n",
       " 'Почет и уважение сообществам PyLadi...': 282,\n",
       " 'Несмотря на пасмурную погоду и неож...': 268,\n",
       " 'Первый набор курса \"Язык прогр...': 311,\n",
       " 'На старт, внимание..... пятый урок ...': 254,\n",
       " 'Это просто праздник какой-то! &...': 314,\n",
       " 'Продолжаем #python_марафон &#128526...': 248,\n",
       " 'Друзья, по многочисленным просьбам ...': 816,\n",
       " 'Учел все ваши пожелания и подготови...': 558,\n",
       " 'Записал видео о Python &#128519;<br...': 1190,\n",
       " 'В нашем опросе лидируют нейронные с...': 219,\n",
       " 'Обычно на занятиях обходил стороной...': 184,\n",
       " 'Python is for Girls &#128077;&#1279...': 168,\n",
       " 'Запускаю небольшой опрос, чтобы опр...': 149,\n",
       " 'Нужна ли магия, чтобы попасть в IT&...': 200,\n",
       " 'Впервые в школе интернет-технологий...': 127,\n",
       " 'Вакансия Python-программиста в Юлма...': 117,\n",
       " 'Хочешь научиться программировать на...': 170,\n",
       " 'Первый выпуск курса \"Python: о...': 135,\n",
       " 'Второй выпуск \"Python: основы ...': 130,\n",
       " 'Интервью Гвидо, в котором он расска...': 83,\n",
       " 'spbdsm: St. Petersburg Data Science...': 114,\n",
       " 'Впервые побывал на PiterPy Meetup. ...': 112,\n",
       " 'Вчера в Библиотеке Гоголя по пригла...': 101,\n",
       " 'Современное образование — затыкание...': 68,\n",
       " 'Немного истории)': 71,\n",
       " '10 мая в 15:00 в Библиотеке Гоголя ...': 81,\n",
       " 'https://vk.com/@init_python-nashi-d...': 75,\n",
       " 'An introduction to the lambda calcu...': 52,\n",
       " 'Kite integrates with your code edit...': 48,\n",
       " '10 мая в 16:30 (Библиотека Гоголя) ...': 38}"
      ]
     },
     "execution_count": 2,
     "metadata": {},
     "output_type": "execute_result"
    }
   ],
   "source": [
    "import csv\n",
    "\n",
    "stata = dict()\n",
    "\n",
    "with open(\"vk_group_reach.txt\", 'r') as file:\n",
    "    stat = csv.reader(file)\n",
    "    for row in stat:\n",
    "        if row[2] == 'Запись':\n",
    "            continue\n",
    "        else:\n",
    "            stata[str(row[2])] = int(row[7])\n",
    "stata"
   ]
  },
  {
   "cell_type": "code",
   "execution_count": 7,
   "metadata": {},
   "outputs": [
    {
     "name": "stdout",
     "output_type": "stream",
     "text": [
      "Записал видео о Python &#128519;<br... 1190\n",
      "Друзья, по многочисленным просьбам ... 816\n",
      "Зачем экономисту Python? &#129300;О... 778\n",
      "До встречи в новом году! &#1280... 734\n",
      "Полный курс \"Python: основы пр... 686\n"
     ]
    }
   ],
   "source": [
    "for i in sorted(stata, key=stata.get, reverse=True)[:5]:\n",
    "    print(i,stata[i])"
   ]
  },
  {
   "cell_type": "code",
   "execution_count": 18,
   "metadata": {},
   "outputs": [
    {
     "data": {
      "text/plain": [
       "['2020-02',\n",
       " '2019-12',\n",
       " '2019-12',\n",
       " '2019-11',\n",
       " '2019-11',\n",
       " '2019-10',\n",
       " '2019-10',\n",
       " '2019-10',\n",
       " '2019-10',\n",
       " '2019-10',\n",
       " '2019-09',\n",
       " '2019-09',\n",
       " '2019-09',\n",
       " '2019-09',\n",
       " '2019-09',\n",
       " '2019-09',\n",
       " '2019-09',\n",
       " '2019-08',\n",
       " '2019-08',\n",
       " '2019-08',\n",
       " '2019-08',\n",
       " '2019-08',\n",
       " '2019-08',\n",
       " '2019-08',\n",
       " '2019-08',\n",
       " '2019-06',\n",
       " '2019-05',\n",
       " '2019-05',\n",
       " '2019-05',\n",
       " '2019-05',\n",
       " '2019-05',\n",
       " '2019-05',\n",
       " '2019-05',\n",
       " '2019-05',\n",
       " '2019-05',\n",
       " '2019-05',\n",
       " '2019-05',\n",
       " '2019-05']"
      ]
     },
     "execution_count": 18,
     "metadata": {},
     "output_type": "execute_result"
    }
   ],
   "source": [
    "import csv\n",
    "\n",
    "stata = []\n",
    "\n",
    "with open(\"vk_group_reach.txt\", 'r') as file:\n",
    "    stat = csv.reader(file)\n",
    "    for row in stat:\n",
    "        if row[2] == 'Запись':\n",
    "            continue\n",
    "        else:\n",
    "            stata.append((str(row[0])[:7]))\n",
    "stata\n"
   ]
  },
  {
   "cell_type": "code",
   "execution_count": 27,
   "metadata": {},
   "outputs": [
    {
     "data": {
      "text/plain": [
       "4.75"
      ]
     },
     "execution_count": 27,
     "metadata": {},
     "output_type": "execute_result"
    }
   ],
   "source": [
    "len(stata)/len(set(stata))"
   ]
  }
 ],
 "metadata": {
  "kernelspec": {
   "display_name": "Python 3",
   "language": "python",
   "name": "python3"
  },
  "language_info": {
   "codemirror_mode": {
    "name": "ipython",
    "version": 3
   },
   "file_extension": ".py",
   "mimetype": "text/x-python",
   "name": "python",
   "nbconvert_exporter": "python",
   "pygments_lexer": "ipython3",
   "version": "3.7.4"
  }
 },
 "nbformat": 4,
 "nbformat_minor": 4
}
