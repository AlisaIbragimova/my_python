{
 "cells": [
  {
   "cell_type": "code",
   "execution_count": 16,
   "metadata": {},
   "outputs": [
    {
     "name": "stdout",
     "output_type": "stream",
     "text": [
      "26.0\n"
     ]
    }
   ],
   "source": [
    "words = 0\n",
    "lines = 0\n",
    "with open('text.txt', 'r') as file: \n",
    "    for line in file:\n",
    "        s = line.split()\n",
    "        lines += 1\n",
    "        words += len(s)\n",
    "print(words/lines)"
   ]
  },
  {
   "cell_type": "code",
   "execution_count": 10,
   "metadata": {},
   "outputs": [
    {
     "name": "stdout",
     "output_type": "stream",
     "text": [
      "29\n"
     ]
    }
   ],
   "source": [
    "up = 0\n",
    "with open('text.txt', 'r') as file: \n",
    "    for line in file:\n",
    "        for i in range(len(line.strip())):\n",
    "            if line.strip()[i].isupper():\n",
    "                up += 1\n",
    "print(up)"
   ]
  },
  {
   "cell_type": "code",
   "execution_count": 13,
   "metadata": {},
   "outputs": [
    {
     "name": "stdout",
     "output_type": "stream",
     "text": [
      "1583\n"
     ]
    }
   ],
   "source": [
    "count = 0\n",
    "with open('text.txt', 'r') as file: \n",
    "    for line in file:\n",
    "        count += len(line.strip())\n",
    "print(count)"
   ]
  },
  {
   "cell_type": "code",
   "execution_count": 21,
   "metadata": {},
   "outputs": [
    {
     "name": "stdout",
     "output_type": "stream",
     "text": [
      "30\n"
     ]
    }
   ],
   "source": [
    "digit = 0\n",
    "with open('text.txt', 'r') as file: \n",
    "    for line in file:\n",
    "        for i in range(len(line.strip())):\n",
    "            if line.strip()[i].isdigit():\n",
    "                digit += 1\n",
    "print(digit)"
   ]
  },
  {
   "cell_type": "code",
   "execution_count": 23,
   "metadata": {},
   "outputs": [
    {
     "name": "stdout",
     "output_type": "stream",
     "text": [
      "250\n"
     ]
    }
   ],
   "source": [
    "space = 0\n",
    "with open('text.txt', 'r') as file: \n",
    "    for line in file:\n",
    "        for i in range(len(line.strip())):\n",
    "            if line.strip()[i] == \" \":\n",
    "                space += 1\n",
    "print(space)"
   ]
  }
 ],
 "metadata": {
  "kernelspec": {
   "display_name": "Python 3",
   "language": "python",
   "name": "python3"
  },
  "language_info": {
   "codemirror_mode": {
    "name": "ipython",
    "version": 3
   },
   "file_extension": ".py",
   "mimetype": "text/x-python",
   "name": "python",
   "nbconvert_exporter": "python",
   "pygments_lexer": "ipython3",
   "version": "3.7.4"
  }
 },
 "nbformat": 4,
 "nbformat_minor": 4
}
