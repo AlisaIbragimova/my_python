{
 "cells": [
  {
   "cell_type": "code",
   "execution_count": 4,
   "metadata": {},
   "outputs": [
    {
     "name": "stdout",
     "output_type": "stream",
     "text": [
      "весн?\n"
     ]
    },
    {
     "name": "stdin",
     "output_type": "stream",
     "text": [
      "Пропущена буква:  а\n"
     ]
    },
    {
     "name": "stdout",
     "output_type": "stream",
     "text": [
      "Победа!\n",
      "Слово: весна\n"
     ]
    }
   ],
   "source": [
    "h = ['самовар','весна','лето']\n",
    "from random import randint\n",
    "slovo = h[randint(0,2)]\n",
    "n = randint(0,len(slovo))\n",
    "slovo, slovo[n]\n",
    "print(slovo[:n]+'?'+slovo[n+1:])\n",
    "guess = input(\"Пропущена буква: \")\n",
    "if guess == slovo[n]:\n",
    "    print(\"Победа!\\n\"+\"Слово: \"+slovo)\n",
    "else:\n",
    "    print(\"Увы! Попробуйте в другой раз.\\n\" \"Слово: \"+slovo)"
   ]
  }
 ],
 "metadata": {
  "kernelspec": {
   "display_name": "Python 3",
   "language": "python",
   "name": "python3"
  },
  "language_info": {
   "codemirror_mode": {
    "name": "ipython",
    "version": 3
   },
   "file_extension": ".py",
   "mimetype": "text/x-python",
   "name": "python",
   "nbconvert_exporter": "python",
   "pygments_lexer": "ipython3",
   "version": "3.7.4"
  }
 },
 "nbformat": 4,
 "nbformat_minor": 4
}
